{
 "cells": [
  {
   "cell_type": "code",
   "execution_count": null,
   "metadata": {
    "collapsed": false
   },
   "outputs": [],
   "source": [
    "import numpy as np\n",
    "from keras.datasets import mnist\n",
    "from keras.utils import np_utils\n",
    "from keras.models import Sequential\n",
    "from keras.layers import Dense,Dropout,Conv2D,MaxPooling2D,Flatten,Input\n",
    "from keras.optimizers import Adam\n",
    "from keras.models import Model"
   ]
  },
  {
   "cell_type": "markdown",
   "metadata": {},
   "source": [
    "数据处理"
   ]
  },
  {
   "cell_type": "code",
   "execution_count": null,
   "metadata": {
    "collapsed": true
   },
   "outputs": [],
   "source": [
    "# 载入数据\n",
    "(x_train,y_train),(x_test,y_test) = mnist.load_data()\n",
    "# (60000,28,28)->(60000,28,28,1)\n",
    "x_train = x_train.reshape(-1,28,28,1)/255.0\n",
    "x_test = x_test.reshape(-1,28,28,1)/255.0\n",
    "# 换one hot格式\n",
    "y_train = np_utils.to_categorical(y_train,num_classes=10)\n",
    "y_test = np_utils.to_categorical(y_test,num_classes=10)"
   ]
  },
  {
   "cell_type": "markdown",
   "metadata": {},
   "source": [
    "序贯（Sequential）模型"
   ]
  },
  {
   "cell_type": "code",
   "execution_count": null,
   "metadata": {
    "collapsed": false
   },
   "outputs": [],
   "source": [
    "# 定义序贯模型\n",
    "model = Sequential()\n",
    "\n",
    "# 第一个卷积层\n",
    "# input_shape 输入平面\n",
    "# filters 卷积核/滤波器个数\n",
    "# kernel_size 卷积窗口大小\n",
    "# strides 步长\n",
    "# padding padding方式 same/valid\n",
    "# activation 激活函数\n",
    "model.add(Conv2D(\n",
    "    input_shape = (28,28,1),\n",
    "    filters = 32,\n",
    "    kernel_size = 5,\n",
    "    strides = 1,\n",
    "    padding = 'same',\n",
    "    activation = 'relu'\n",
    "))\n",
    "# 第一个池化层\n",
    "model.add(MaxPooling2D(\n",
    "    pool_size = 2,\n",
    "    strides = 2,\n",
    "    padding = 'same',\n",
    "))\n",
    "# 第二个卷积层\n",
    "model.add(Conv2D(64,5,strides=1,padding='same',activation = 'relu'))\n",
    "# 第二个池化层\n",
    "model.add(MaxPooling2D(2,2,'same'))\n",
    "# 把第二个池化层的输出扁平化为1维\n",
    "model.add(Flatten())\n",
    "# 第一个全连接层\n",
    "model.add(Dense(1024,activation = 'relu'))\n",
    "# Dropout\n",
    "model.add(Dropout(0.5))\n",
    "# 第二个全连接层\n",
    "model.add(Dense(10,activation='softmax'))"
   ]
  },
  {
   "cell_type": "markdown",
   "metadata": {},
   "source": [
    "函数式（Functional）模型"
   ]
  },
  {
   "cell_type": "code",
   "execution_count": null,
   "metadata": {
    "collapsed": true
   },
   "outputs": [],
   "source": [
    "inputs = Input(shape=(28,28,1))\n",
    "x = Conv2D(filters=32, kernel_size=5, padding='same', activation='relu')(inputs)\n",
    "x = MaxPooling2D(pool_size = 2)(x)\n",
    "x = Conv2D(filters=64, kernel_size=5, padding='same', activation='relu')(x)\n",
    "x = MaxPooling2D(pool_size = 2)(x)\n",
    "x = Flatten()(x)\n",
    "x = Dense(1024,activation = 'relu')(x)\n",
    "x = Dropout(0.5)(x)\n",
    "predictions = Dense(10,activation='softmax')(x)\n",
    "model = Model(inputs=inputs, outputs=predictions)"
   ]
  },
  {
   "cell_type": "markdown",
   "metadata": {},
   "source": [
    "训练模型"
   ]
  },
  {
   "cell_type": "code",
   "execution_count": null,
   "metadata": {
    "collapsed": false
   },
   "outputs": [],
   "source": [
    "# 定义优化器\n",
    "adam = Adam(lr=1e-4)\n",
    "\n",
    "# 定义优化器，loss function，训练过程中计算准确率\n",
    "model.compile(optimizer=adam,loss='categorical_crossentropy',metrics=['accuracy'])\n",
    "\n",
    "# 训练模型\n",
    "model.fit(x_train,y_train,batch_size=64,epochs=10)\n",
    "\n",
    "# 评估模型\n",
    "loss,accuracy = model.evaluate(x_test,y_test)\n",
    "\n",
    "print('test loss',loss)\n",
    "print('test accuracy',accuracy)"
   ]
  },
  {
   "cell_type": "markdown",
   "metadata": {},
   "source": [
    "Inception:\n",
    "<center><img src=\"inception.jpg\" alt=\"FAO\" width=\"500\"></center> "
   ]
  },
  {
   "cell_type": "code",
   "execution_count": null,
   "metadata": {
    "collapsed": true
   },
   "outputs": [],
   "source": [
    "from keras.layers import Conv2D, MaxPooling2D, Input\n",
    "\n",
    "input_img = Input(shape=(256, 256, 3))\n",
    "\n",
    "tower_1 = Conv2D(64, (1, 1), padding='same', activation='relu')(input_img)\n",
    "tower_1 = Conv2D(64, (3, 3), padding='same', activation='relu')(tower_1)\n",
    "\n",
    "tower_2 = Conv2D(64, (1, 1), padding='same', activation='relu')(input_img)\n",
    "tower_2 = Conv2D(64, (5, 5), padding='same', activation='relu')(tower_2)\n",
    "\n",
    "tower_3 = MaxPooling2D((3, 3), strides=(1, 1), padding='same')(input_img)\n",
    "tower_3 = Conv2D(64, (1, 1), padding='same', activation='relu')(tower_3)\n",
    "\n",
    "output = keras.layers.concatenate([tower_1, tower_2, tower_3], axis=1)"
   ]
  }
 ],
 "metadata": {
  "kernelspec": {
   "display_name": "Python [default]",
   "language": "python",
   "name": "python3"
  },
  "language_info": {
   "codemirror_mode": {
    "name": "ipython",
    "version": 3
   },
   "file_extension": ".py",
   "mimetype": "text/x-python",
   "name": "python",
   "nbconvert_exporter": "python",
   "pygments_lexer": "ipython3",
   "version": "3.5.2"
  }
 },
 "nbformat": 4,
 "nbformat_minor": 1
}

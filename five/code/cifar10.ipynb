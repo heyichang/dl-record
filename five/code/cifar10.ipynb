{
 "cells": [
  {
   "cell_type": "code",
   "execution_count": 11,
   "metadata": {
    "collapsed": false
   },
   "outputs": [],
   "source": [
    "import numpy as np\n",
    "from keras.datasets import cifar10\n",
    "from keras.utils import np_utils\n",
    "from keras.models import Sequential\n",
    "from keras.layers import Dense,Dropout,Convolution2D,MaxPooling2D,Flatten\n",
    "from keras.optimizers import Adam\n",
    "import time"
   ]
  },
  {
   "cell_type": "code",
   "execution_count": 12,
   "metadata": {
    "collapsed": false
   },
   "outputs": [
    {
     "name": "stdout",
     "output_type": "stream",
     "text": [
      "(50000, 32, 32, 3)\n",
      "(50000, 1)\n"
     ]
    }
   ],
   "source": [
    "# 载入数据\n",
    "(x_train,y_train),(x_test,y_test) = cifar10.load_data()\n",
    "print(x_train.shape)\n",
    "print(y_train.shape)"
   ]
  },
  {
   "cell_type": "code",
   "execution_count": 13,
   "metadata": {
    "collapsed": false
   },
   "outputs": [],
   "source": [
    "# 数据归一化\n",
    "x_train = x_train/255.0\n",
    "x_test = x_test/255.0\n",
    "# 换one hot格式\n",
    "y_train = np_utils.to_categorical(y_train,num_classes=10)\n",
    "y_test = np_utils.to_categorical(y_test,num_classes=10)"
   ]
  },
  {
   "cell_type": "code",
   "execution_count": 14,
   "metadata": {
    "collapsed": false
   },
   "outputs": [
    {
     "name": "stdout",
     "output_type": "stream",
     "text": [
      "_________________________________________________________________\n",
      "Layer (type)                 Output Shape              Param #   \n",
      "=================================================================\n",
      "conv2d_7 (Conv2D)            (None, 32, 32, 64)        1792      \n",
      "_________________________________________________________________\n",
      "conv2d_8 (Conv2D)            (None, 32, 32, 64)        36928     \n",
      "_________________________________________________________________\n",
      "max_pooling2d_4 (MaxPooling2 (None, 16, 16, 64)        0         \n",
      "_________________________________________________________________\n",
      "conv2d_9 (Conv2D)            (None, 16, 16, 128)       73856     \n",
      "_________________________________________________________________\n",
      "conv2d_10 (Conv2D)           (None, 16, 16, 128)       147584    \n",
      "_________________________________________________________________\n",
      "max_pooling2d_5 (MaxPooling2 (None, 8, 8, 128)         0         \n",
      "_________________________________________________________________\n",
      "conv2d_11 (Conv2D)           (None, 8, 8, 256)         295168    \n",
      "_________________________________________________________________\n",
      "conv2d_12 (Conv2D)           (None, 8, 8, 256)         590080    \n",
      "_________________________________________________________________\n",
      "max_pooling2d_6 (MaxPooling2 (None, 4, 4, 256)         0         \n",
      "_________________________________________________________________\n",
      "flatten_2 (Flatten)          (None, 4096)              0         \n",
      "_________________________________________________________________\n",
      "dense_3 (Dense)              (None, 128)               524416    \n",
      "_________________________________________________________________\n",
      "dropout_2 (Dropout)          (None, 128)               0         \n",
      "_________________________________________________________________\n",
      "dense_4 (Dense)              (None, 10)                1290      \n",
      "=================================================================\n",
      "Total params: 1,671,114\n",
      "Trainable params: 1,671,114\n",
      "Non-trainable params: 0\n",
      "_________________________________________________________________\n"
     ]
    }
   ],
   "source": [
    "# 定义模型\n",
    "model = Sequential()\n",
    "model.add(Convolution2D(input_shape=(32,32,3), filters=64, kernel_size=3, strides=1, padding='same', activation = 'relu'))\n",
    "model.add(Convolution2D(filters=64, kernel_size=3, strides=1, padding='same', activation = 'relu'))\n",
    "model.add(MaxPooling2D(pool_size=2, strides=2, padding='valid'))\n",
    "\n",
    "model.add(Convolution2D(filters=128, kernel_size=3, strides=1, padding='same', activation = 'relu'))\n",
    "model.add(Convolution2D(filters=128, kernel_size=3, strides=1, padding='same', activation = 'relu'))\n",
    "model.add(MaxPooling2D(pool_size=2, strides=2, padding='valid'))\n",
    "\n",
    "model.add(Convolution2D(filters=256, kernel_size=3, strides=1, padding='same', activation = 'relu'))\n",
    "model.add(Convolution2D(filters=256, kernel_size=3, strides=1, padding='same', activation = 'relu'))\n",
    "model.add(MaxPooling2D(pool_size=2, strides=2, padding='valid'))\n",
    "\n",
    "model.add(Flatten())\n",
    "model.add(Dense(128,activation = 'relu'))\n",
    "model.add(Dropout(0.5))\n",
    "model.add(Dense(10,activation = 'softmax'))\n",
    "\n",
    "# 定义优化器\n",
    "adam = Adam(lr=1e-4)\n",
    "\n",
    "# 定义优化器，loss function，训练过程中计算准确率\n",
    "model.compile(optimizer=adam,loss='categorical_crossentropy',metrics=['accuracy'])\n",
    "\n",
    "model.summary()"
   ]
  },
  {
   "cell_type": "code",
   "execution_count": 15,
   "metadata": {
    "collapsed": false
   },
   "outputs": [
    {
     "name": "stdout",
     "output_type": "stream",
     "text": [
      "Train on 50000 samples, validate on 10000 samples\n",
      "Epoch 1/50\n",
      "50000/50000 [==============================] - 105s - loss: 1.9523 - acc: 0.2806 - val_loss: 1.6396 - val_acc: 0.4252\n",
      "Epoch 2/50\n",
      "50000/50000 [==============================] - 117s - loss: 1.6378 - acc: 0.4060 - val_loss: 1.5517 - val_acc: 0.4512\n",
      "Epoch 3/50\n",
      "50000/50000 [==============================] - 100s - loss: 1.5074 - acc: 0.4574 - val_loss: 1.3419 - val_acc: 0.5154\n",
      "Epoch 4/50\n",
      "50000/50000 [==============================] - 68s - loss: 1.4114 - acc: 0.4935 - val_loss: 1.2881 - val_acc: 0.5392\n",
      "Epoch 5/50\n",
      "50000/50000 [==============================] - 66s - loss: 1.3284 - acc: 0.5291 - val_loss: 1.1745 - val_acc: 0.5830\n",
      "Epoch 6/50\n",
      "50000/50000 [==============================] - 65s - loss: 1.2656 - acc: 0.5508 - val_loss: 1.1398 - val_acc: 0.5961\n",
      "Epoch 7/50\n",
      "50000/50000 [==============================] - 65s - loss: 1.1989 - acc: 0.5772 - val_loss: 1.0862 - val_acc: 0.6183\n",
      "Epoch 8/50\n",
      "50000/50000 [==============================] - 64s - loss: 1.1508 - acc: 0.5964 - val_loss: 1.0604 - val_acc: 0.6309\n",
      "Epoch 9/50\n",
      "50000/50000 [==============================] - 64s - loss: 1.1048 - acc: 0.6139 - val_loss: 1.0429 - val_acc: 0.6332\n",
      "Epoch 10/50\n",
      "50000/50000 [==============================] - 63s - loss: 1.0628 - acc: 0.6288 - val_loss: 1.0087 - val_acc: 0.6467\n",
      "Epoch 11/50\n",
      "50000/50000 [==============================] - 63s - loss: 1.0252 - acc: 0.6447 - val_loss: 0.9526 - val_acc: 0.6686\n",
      "Epoch 12/50\n",
      "50000/50000 [==============================] - 66s - loss: 0.9863 - acc: 0.6580 - val_loss: 0.9095 - val_acc: 0.6824\n",
      "Epoch 13/50\n",
      "50000/50000 [==============================] - 64s - loss: 0.9545 - acc: 0.6686 - val_loss: 0.9122 - val_acc: 0.6845\n",
      "Epoch 14/50\n",
      "50000/50000 [==============================] - 64s - loss: 0.9161 - acc: 0.6844 - val_loss: 0.9034 - val_acc: 0.6884\n",
      "Epoch 15/50\n",
      "50000/50000 [==============================] - 64s - loss: 0.8968 - acc: 0.6890 - val_loss: 0.8538 - val_acc: 0.6992\n",
      "Epoch 16/50\n",
      "50000/50000 [==============================] - 63s - loss: 0.8553 - acc: 0.7054 - val_loss: 0.8303 - val_acc: 0.7130\n",
      "Epoch 17/50\n",
      "50000/50000 [==============================] - 64s - loss: 0.8338 - acc: 0.7128 - val_loss: 0.8788 - val_acc: 0.6936\n",
      "Epoch 18/50\n",
      "50000/50000 [==============================] - 67s - loss: 0.8090 - acc: 0.7210 - val_loss: 0.8553 - val_acc: 0.7048\n",
      "Epoch 19/50\n",
      "50000/50000 [==============================] - 68s - loss: 0.7885 - acc: 0.7280 - val_loss: 0.8294 - val_acc: 0.7149\n",
      "Epoch 20/50\n",
      "50000/50000 [==============================] - 64s - loss: 0.7607 - acc: 0.7368 - val_loss: 0.7905 - val_acc: 0.7308\n",
      "Epoch 21/50\n",
      "50000/50000 [==============================] - 96s - loss: 0.7317 - acc: 0.7464 - val_loss: 0.7782 - val_acc: 0.7296\n",
      "Epoch 22/50\n",
      "50000/50000 [==============================] - 88s - loss: 0.7080 - acc: 0.7553 - val_loss: 0.7888 - val_acc: 0.7320\n",
      "Epoch 23/50\n",
      "50000/50000 [==============================] - 70s - loss: 0.6943 - acc: 0.7591 - val_loss: 0.7705 - val_acc: 0.7335\n",
      "Epoch 24/50\n",
      "50000/50000 [==============================] - 70s - loss: 0.6710 - acc: 0.7670 - val_loss: 0.7612 - val_acc: 0.7383\n",
      "Epoch 25/50\n",
      "50000/50000 [==============================] - 117s - loss: 0.6491 - acc: 0.7749 - val_loss: 0.7506 - val_acc: 0.7433\n",
      "Epoch 26/50\n",
      "50000/50000 [==============================] - 80s - loss: 0.6270 - acc: 0.7823 - val_loss: 0.7412 - val_acc: 0.7483\n",
      "Epoch 27/50\n",
      "50000/50000 [==============================] - 75s - loss: 0.6015 - acc: 0.7908 - val_loss: 0.7486 - val_acc: 0.7468\n",
      "Epoch 28/50\n",
      "50000/50000 [==============================] - 69s - loss: 0.5842 - acc: 0.7963 - val_loss: 0.7374 - val_acc: 0.7516\n",
      "Epoch 29/50\n",
      "50000/50000 [==============================] - 62s - loss: 0.5636 - acc: 0.8034 - val_loss: 0.7246 - val_acc: 0.7528\n",
      "Epoch 30/50\n",
      "50000/50000 [==============================] - 114s - loss: 0.5451 - acc: 0.8092 - val_loss: 0.7665 - val_acc: 0.7401\n",
      "Epoch 31/50\n",
      "50000/50000 [==============================] - 124s - loss: 0.5205 - acc: 0.8191 - val_loss: 0.7551 - val_acc: 0.7541\n",
      "Epoch 32/50\n",
      "50000/50000 [==============================] - 122s - loss: 0.4993 - acc: 0.8244 - val_loss: 0.7395 - val_acc: 0.7542\n",
      "Epoch 33/50\n",
      "50000/50000 [==============================] - 113s - loss: 0.4823 - acc: 0.8305 - val_loss: 0.7554 - val_acc: 0.7544\n",
      "Epoch 34/50\n",
      "50000/50000 [==============================] - 70s - loss: 0.4667 - acc: 0.8364 - val_loss: 0.7149 - val_acc: 0.7660\n",
      "Epoch 35/50\n",
      "50000/50000 [==============================] - 96s - loss: 0.4476 - acc: 0.8425 - val_loss: 0.7137 - val_acc: 0.7672\n",
      "Epoch 36/50\n",
      "50000/50000 [==============================] - 88s - loss: 0.4311 - acc: 0.8479 - val_loss: 0.7084 - val_acc: 0.7712\n",
      "Epoch 37/50\n",
      "50000/50000 [==============================] - 64s - loss: 0.4083 - acc: 0.8564 - val_loss: 0.7313 - val_acc: 0.7713\n",
      "Epoch 38/50\n",
      "50000/50000 [==============================] - 63s - loss: 0.3921 - acc: 0.8608 - val_loss: 0.7506 - val_acc: 0.7615\n",
      "Epoch 39/50\n",
      "50000/50000 [==============================] - 63s - loss: 0.3742 - acc: 0.8676 - val_loss: 0.7486 - val_acc: 0.7669\n",
      "Epoch 40/50\n",
      "50000/50000 [==============================] - 63s - loss: 0.3619 - acc: 0.8710 - val_loss: 0.7556 - val_acc: 0.7735\n",
      "Epoch 41/50\n",
      "50000/50000 [==============================] - 63s - loss: 0.3449 - acc: 0.8781 - val_loss: 0.7513 - val_acc: 0.7692\n",
      "Epoch 42/50\n",
      "50000/50000 [==============================] - 87s - loss: 0.3310 - acc: 0.8818 - val_loss: 0.7478 - val_acc: 0.7756\n",
      "Epoch 43/50\n",
      "50000/50000 [==============================] - 114s - loss: 0.3152 - acc: 0.8879 - val_loss: 0.7749 - val_acc: 0.7703\n",
      "Epoch 44/50\n",
      "50000/50000 [==============================] - 89s - loss: 0.2988 - acc: 0.8932 - val_loss: 0.7860 - val_acc: 0.7721\n",
      "Epoch 45/50\n",
      "50000/50000 [==============================] - 68s - loss: 0.2869 - acc: 0.8978 - val_loss: 0.7952 - val_acc: 0.7725\n",
      "Epoch 46/50\n",
      "50000/50000 [==============================] - 67s - loss: 0.2813 - acc: 0.8995 - val_loss: 0.7948 - val_acc: 0.7743\n",
      "Epoch 47/50\n",
      "50000/50000 [==============================] - 68s - loss: 0.2593 - acc: 0.9063 - val_loss: 0.8468 - val_acc: 0.7729\n",
      "Epoch 48/50\n",
      "50000/50000 [==============================] - 66s - loss: 0.2574 - acc: 0.9077 - val_loss: 0.8405 - val_acc: 0.7709\n",
      "Epoch 49/50\n",
      "50000/50000 [==============================] - 67s - loss: 0.2403 - acc: 0.9143 - val_loss: 0.8387 - val_acc: 0.7697\n",
      "Epoch 50/50\n",
      "50000/50000 [==============================] - 63s - loss: 0.2326 - acc: 0.9175 - val_loss: 0.8486 - val_acc: 0.7717\n",
      "@ Total Time Spent: 3910.99 seconds\n"
     ]
    }
   ],
   "source": [
    "start = time.time()\n",
    "model.fit(x_train, y_train, batch_size=256, epochs=50, validation_data=(x_test, y_test), shuffle=True)\n",
    "print('@ Total Time Spent: %.2f seconds' % (time.time() - start))"
   ]
  },
  {
   "cell_type": "code",
   "execution_count": null,
   "metadata": {
    "collapsed": true
   },
   "outputs": [],
   "source": []
  }
 ],
 "metadata": {
  "anaconda-cloud": {},
  "kernelspec": {
   "display_name": "Python [default]",
   "language": "python",
   "name": "python3"
  },
  "language_info": {
   "codemirror_mode": {
    "name": "ipython",
    "version": 3
   },
   "file_extension": ".py",
   "mimetype": "text/x-python",
   "name": "python",
   "nbconvert_exporter": "python",
   "pygments_lexer": "ipython3",
   "version": "3.5.2"
  }
 },
 "nbformat": 4,
 "nbformat_minor": 1
}

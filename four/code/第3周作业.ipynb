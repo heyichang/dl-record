{
 "cells": [
  {
   "cell_type": "code",
   "execution_count": 5,
   "metadata": {
    "collapsed": false
   },
   "outputs": [],
   "source": [
    "import numpy as np\n",
    "from keras.datasets import mnist\n",
    "from keras.utils import np_utils\n",
    "from keras.models import Sequential\n",
    "from keras.layers import Dense,Dropout\n",
    "from keras.optimizers import Adam\n",
    "from keras.regularizers import l2"
   ]
  },
  {
   "cell_type": "code",
   "execution_count": 7,
   "metadata": {
    "collapsed": false
   },
   "outputs": [
    {
     "name": "stdout",
     "output_type": "stream",
     "text": [
      "x_shape: (60000, 28, 28)\n",
      "y_shape: (60000,)\n",
      "Epoch 1/10\n",
      "60000/60000 [==============================] - 13s - loss: 0.6670 - acc: 0.8668    \n",
      "Epoch 2/10\n",
      "60000/60000 [==============================] - 13s - loss: 0.4763 - acc: 0.9193    \n",
      "Epoch 3/10\n",
      "60000/60000 [==============================] - 13s - loss: 0.4448 - acc: 0.9245    \n",
      "Epoch 4/10\n",
      "60000/60000 [==============================] - 12s - loss: 0.4291 - acc: 0.9295    \n",
      "Epoch 5/10\n",
      "60000/60000 [==============================] - 11s - loss: 0.4232 - acc: 0.9315    \n",
      "Epoch 6/10\n",
      "60000/60000 [==============================] - 11s - loss: 0.4186 - acc: 0.9324    \n",
      "Epoch 7/10\n",
      "60000/60000 [==============================] - 11s - loss: 0.4178 - acc: 0.9338    \n",
      "Epoch 8/10\n",
      "60000/60000 [==============================] - 11s - loss: 0.4150 - acc: 0.9331    \n",
      "Epoch 9/10\n",
      "60000/60000 [==============================] - 12s - loss: 0.4122 - acc: 0.9360    \n",
      "Epoch 10/10\n",
      "60000/60000 [==============================] - 13s - loss: 0.4142 - acc: 0.9344    \n",
      " 9504/10000 [===========================>..] - ETA: 0s\n",
      "test loss 0.324772666669\n",
      "accuracy 0.9618\n"
     ]
    }
   ],
   "source": [
    "# 载入数据\n",
    "(x_train,y_train),(x_test,y_test) = mnist.load_data()\n",
    "# (60000,28,28)\n",
    "print('x_shape:',x_train.shape)\n",
    "# (60000)\n",
    "print('y_shape:',y_train.shape)\n",
    "# (60000,28,28)->(60000,784)\n",
    "x_train = x_train.reshape(x_train.shape[0],-1)/255.0\n",
    "x_test = x_test.reshape(x_test.shape[0],-1)/255.0\n",
    "# 换one hot格式\n",
    "y_train = np_utils.to_categorical(y_train,num_classes=10)\n",
    "y_test = np_utils.to_categorical(y_test,num_classes=10)\n",
    "\n",
    "# 创建模型\n",
    "model = Sequential([\n",
    "        Dense(units=500,input_dim=784,bias_initializer='one',activation='tanh',kernel_regularizer=l2(0.0003)),\n",
    "        Dropout(0.5),\n",
    "        Dense(units=300,bias_initializer='one',activation='tanh',kernel_regularizer=l2(0.0003)),\n",
    "        Dropout(0.5),\n",
    "        Dense(units=10,bias_initializer='one',activation='softmax',kernel_regularizer=l2(0.0003))\n",
    "    ])\n",
    "\n",
    "# 定义优化器\n",
    "adam = Adam(lr=0.001) \n",
    "\n",
    "# 定义优化器，loss function，训练过程中计算准确率\n",
    "model.compile(\n",
    "    optimizer = adam,\n",
    "    loss = 'categorical_crossentropy',\n",
    "    metrics=['accuracy'],\n",
    ")\n",
    "\n",
    "# 训练模型\n",
    "model.fit(x_train,y_train,batch_size=32,epochs=10)\n",
    "\n",
    "# 评估模型\n",
    "loss,accuracy = model.evaluate(x_test,y_test)\n",
    "\n",
    "print('\\ntest loss',loss)\n",
    "print('accuracy',accuracy)"
   ]
  },
  {
   "cell_type": "code",
   "execution_count": null,
   "metadata": {
    "collapsed": true
   },
   "outputs": [],
   "source": []
  }
 ],
 "metadata": {
  "anaconda-cloud": {},
  "kernelspec": {
   "display_name": "Python [default]",
   "language": "python",
   "name": "python3"
  },
  "language_info": {
   "codemirror_mode": {
    "name": "ipython",
    "version": 3
   },
   "file_extension": ".py",
   "mimetype": "text/x-python",
   "name": "python",
   "nbconvert_exporter": "python",
   "pygments_lexer": "ipython3",
   "version": "3.5.2"
  }
 },
 "nbformat": 4,
 "nbformat_minor": 1
}
